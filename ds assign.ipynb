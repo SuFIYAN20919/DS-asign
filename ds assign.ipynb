{
 "cells": [
  {
   "cell_type": "raw",
   "id": "8d3f616e-621e-43ce-ae8f-16e281f68046",
   "metadata": {},
   "source": [
    "1. What are data structures, and why are they important?\n",
    "-Data structures are specialized formats for organizing, processing, and storing data in a computer so that it can be used efficiently. They define the relationship between the data and the operations that can be performed on it.\n",
    "Efficiency: The right data structure improves the performance of algorithms (speed and memory usage).\n",
    "\n",
    "Organization: Helps in logically organizing data, making it easier to manage and modify.\n",
    "Scalability: Good data structures enable systems to handle large datasets or high volumes of operations.\n",
    "\n",
    "Problem Solving: Many real-world problems are modeled using data structures (e.g., social networks with graphs).\n",
    "\n",
    "Foundation for Algorithms: Algorithms often rely on specific data structures (e.g., sorting an array, traversing a tree)."
   ]
  },
  {
   "cell_type": "raw",
   "id": "3e288ed9-c46d-47f6-9ba5-1362c1986bdd",
   "metadata": {},
   "source": [
    "2 .   Explain the difference between mutable and immutable data types with examples\n",
    "- In programming, data types can be classified as either mutable or immutable based on whether their content can be changed after they are created\n",
    "my_list = [1, 2, 3]\n",
    "print(id(my_list)) \n",
    "\n",
    "my_list.append(4)\n",
    "print(my_list)       # Output: [1, 2, 3, 4]\n",
    "print(id(my_list))\n",
    "Immutable types cannot be changed after they are created. Any operation that seems to modify them will actually create a new object.\n",
    "my_str = \"hello\"\n",
    "print(id(my_str))    \n",
    "\n",
    "my_str += \" world\"\n",
    "print(my_str)        # Output: \"hello world\"\n",
    "print(id(my_str))"
   ]
  },
  {
   "cell_type": "raw",
   "id": "35dafabd-0e66-49a4-bbf4-511074410f58",
   "metadata": {},
   "source": [
    "3.What are the main differences between lists and tuples in Python\n",
    "-In Python, both lists and tuples are used to store collections of items. However, there are several key differences between them:\n",
    "\n",
    "\n",
    "List: Mutable – you can modify, add, or remove elements after the list is created.\n",
    "\n",
    "Tuple: Immutable – once a tuple is created, its contents cannot be changed.\n",
    "\n",
    "python\n",
    "Copy\n",
    "Edit\n",
    "# List\n",
    "my_list = [1, 2, 3]\n",
    "my_list[0] = 10  # Valid\n",
    "\n",
    "# Tuple\n",
    "my_tuple = (1, 2, 3)\n",
    "# my_tuple[0] = 10  # Raises TypeError"
   ]
  },
  {
   "cell_type": "raw",
   "id": "3837584c-0f3b-4f0a-a8a9-18b2803c3a77",
   "metadata": {},
   "source": [
    "4. Describe how dictionaries store data\n",
    "-Dictionaries in programming—especially in languages like Python—store data using a data structure known as a **hash table**. Here's how it works:\n",
    "\n",
    "---\n",
    "\n",
    "### **1. Key-Value Pairs**\n",
    "\n",
    "A dictionary stores **key-value pairs**. Each key is unique and is associated with a specific value.\n",
    "\n",
    "Example in Python:\n",
    "\n",
    "```python\n",
    "my_dict = {\n",
    "    \"name\": \"Alice\",\n",
    "    \"age\": 30,\n",
    "    \"city\": \"New York\"\n",
    "}\n",
    "```\n",
    "\n",
    "* `\"name\"` is a key, `\"Alice\"` is its value.\n",
    "* `\"age\"` is a key, `30` is its value.\n",
    "\n",
    "---\n",
    "\n",
    "### **2. Hashing**\n",
    "\n",
    "* When a key is added to the dictionary, it is passed through a **hash function**.\n",
    "* This function converts the key into an integer called a **hash code**.\n",
    "* The hash code determines where the value will be stored in an underlying array (the hash table).\n",
    "\n",
    "---\n",
    "\n",
    "### **3. Indexing**\n",
    "\n",
    "* The hash code is used to compute an **index** in the hash table where the value will be stored.\n",
    "* This allows for **very fast lookups**—on average, accessing a value by its key takes **constant time**: O(1).\n",
    "\n",
    "---\n",
    "\n",
    "### **4. Handling Collisions**\n",
    "\n",
    "Sometimes two keys can produce the same index (a **hash collision**). Dictionaries handle this with techniques like:\n",
    "\n",
    "* **Chaining**: Store multiple key-value pairs at the same index using a linked list or another container.\n",
    "* **Open addressing**: Find another empty slot based on a probing sequence.\n",
    "\n",
    "---\n",
    "\n",
    "### **5. Resizing**\n",
    "\n",
    "When a dictionary grows too full (i.e., exceeds a certain **load factor**), it:\n",
    "\n",
    "* Creates a new, larger underlying array.\n",
    "* Rehashes all existing keys.\n",
    "* Reinserts them into the new array.\n",
    "\n",
    "This keeps the dictionary efficient.\n",
    "\n",
    "---\n",
    "\n",
    "### Summary\n",
    "\n",
    "Dictionaries:\n",
    "\n",
    "* Use **hash tables** under the hood.\n",
    "* Store **key-value pairs**.\n",
    "* Use **hashing** to map keys to values.\n",
    "* Handle **collisions** gracefully.\n",
    "* Resize dynamically to maintain performance.\n",
    "\n",
    "Let me know if you want to see a visual representation or low-level implementation!\n"
   ]
  },
  {
   "cell_type": "raw",
   "id": "8abb46fc-0be3-49e6-971c-aec3c1c66499",
   "metadata": {},
   "source": [
    "5. why you might use a set instead of a list in python\n",
    "-You might use a set instead of a list in Python for several reasons:\n",
    "\n",
    "1. **Uniqueness of Elements**:\n",
    "\n",
    "   * A set automatically removes duplicate items. If you need to store unique values, a set is the best choice.\n",
    "\n",
    "   ```python\n",
    "   my_list = [1, 2, 2, 3]\n",
    "   my_set = set(my_list)  # {1, 2, 3}\n",
    "   ```\n",
    "\n",
    "2. **Faster Membership Testing**:\n",
    "\n",
    "   * Sets offer much faster lookup performance than lists (on average O(1) vs. O(n)).\n",
    "\n",
    "   ```python\n",
    "   3 in my_list  # slower\n",
    "   3 in my_set   # faster\n",
    "   ```\n",
    "\n",
    "3. **Set Operations**:\n",
    "\n",
    "   * Sets support powerful operations like union, intersection, difference, and symmetric difference.\n",
    "\n",
    "   ```python\n",
    "   a = {1, 2, 3}\n",
    "   b = {3, 4, 5}\n",
    "   print(a & b)  # intersection => {3}\n",
    "   print(a | b)  # union => {1, 2, 3, 4, 5}\n",
    "   ```\n",
    "\n",
    "4. **Cleaner Code When Order Doesn't Matter**:\n",
    "\n",
    "   * If the order of elements isn't important, using a set can lead to clearer intent and simpler code.\n",
    "\n",
    "However, remember:\n",
    "\n",
    "* Sets are unordered (no indexing or slicing).\n",
    "* They only store immutable (hashable) items.\n",
    "\n",
    "Use sets when you care about uniqueness and performance for membership testing or mathematical set operations. Use lists when you care about order or need to store duplicates.\n"
   ]
  },
  {
   "cell_type": "raw",
   "id": "ceea3c9f-e142-4259-8469-6e6112af1634",
   "metadata": {},
   "source": [
    "6. What is a string in Python, and how is it different from a list?\n",
    "-In Python:\n",
    "\n",
    "### A **string** is:\n",
    "\n",
    "* A sequence of characters enclosed in quotes (single, double, or triple).\n",
    "* Immutable, meaning you can't change it after it's created.\n",
    "* Example: `\"hello\"`, `'world'`, `\"\"\"multi-line\"\"\"`.\n",
    "\n",
    " A **list** is:\n",
    "\n",
    "* A sequence of items (which can include strings, numbers, other lists, etc.).\n",
    "* Mutable, meaning you can change, add, or remove items after creation.\n",
    "* Example: `[1, 2, 3]`, `[\"a\", \"b\", \"c\"]`, `[1, \"hello\", 3.5]`.\n",
    "\n",
    "### Key Differences:\n",
    "\n",
    "| Feature    | String             | List                        |\n",
    "| ---------- | ------------------ | --------------------------- |\n",
    "| Contents   | Characters only    | Any type of elements        |\n",
    "| Mutability | Immutable          | Mutable                     |\n",
    "| Syntax     | Enclosed in quotes | Enclosed in square brackets |\n",
    "| Common Use | Text               | Collections of items        |\n",
    "| Example    | `\"chat\"`           | `[\"c\", \"h\", \"a\", \"t\"]`      |\n",
    "\n",
    "They both support indexing and slicing, but since strings are immutable, operations that \"modify\" a string always return a new one.\n",
    "\n",
    "Let me know if you want to see how they behave in code.\n"
   ]
  },
  {
   "cell_type": "raw",
   "id": "9636399b-d7b0-4460-a080-e32eea986589",
   "metadata": {},
   "source": [
    "7. How do tuples ensure data integrity in Python?\n",
    "-In Python, tuples help ensure data integrity through immutability. Here's what that means and how it works:\n",
    "\n",
    "### 1. Tuples Are Immutable\n",
    "\n",
    "Once a tuple is created, its elements cannot be changed, added to, or removed. For example:\n",
    "\n",
    "```python\n",
    "t = (1, 2, 3)\n",
    "t[0] = 5  # This will raise a TypeError\n",
    "```\n",
    "\n",
    "This immutability ensures that data stored in tuples cannot be accidentally modified, which makes them ideal for:\n",
    "\n",
    "* Configuration data\n",
    "* Constants\n",
    "* Dictionary keys (because they are hashable)\n",
    "\n",
    "### 2. Prevents Accidental Data Changes\n",
    "\n",
    "If you use a list and someone alters it in a function, the changes persist outside the function. Tuples avoid this pitfall:\n",
    "\n",
    "```python\n",
    "def process(data):\n",
    "    # can't change tuple elements\n",
    "    print(data[0])\n",
    "\n",
    "immutable_data = (42, \"config\")\n",
    "process(immutable_data)  # Safe: function can't change original tuple\n",
    "```\n",
    "\n",
    "### 3. Safer Data Sharing\n",
    "\n",
    "When multiple parts of a program share a tuple, you can be confident that no one will modify its contents. This is especially useful in multi-threaded or complex codebases.\n",
    "\n",
    "### 4. Promotes Semantic Clarity\n",
    "\n",
    "Using a tuple can signal \"this collection of values should not change,\" which makes code easier to read and understand.\n",
    "\n",
    "### Summary\n",
    "\n",
    "Tuples help maintain data integrity by:\n",
    "\n",
    "* Preventing accidental or unauthorized modifications\n",
    "* Serving as reliable keys in dictionaries\n",
    "* Encouraging safer and more predictable code\n",
    "\n",
    "Let me know if you'd like a comparison between tuples and other collections like lists or sets in terms of integrity and use cases.\n"
   ]
  },
  {
   "cell_type": "raw",
   "id": "879ba5b3-61de-4925-95fa-2503b52e388c",
   "metadata": {},
   "source": [
    "8.What is a hash table, and how does it relate to dictionaries in Python?\n",
    "A hash table is a data structure that stores key-value pairs and allows for fast data retrieval based on the key. It works by using a hash function to compute an index (or hash code) into an array of buckets or slots, from which the desired value can be found."
   ]
  },
  {
   "cell_type": "raw",
   "id": "6b8c956d-0e8d-43e2-9669-320422a24e12",
   "metadata": {},
   "source": [
    "9.Can lists contain different data types in Python?\n",
    "-Yes, in Python, lists can contain elements of different data types. For example:\n",
    "\n",
    "```python\n",
    "my_list = [1, \"hello\", 3.14, True, [5, 6], {\"key\": \"value\"}]\n",
    "```\n",
    "\n",
    "This list contains:\n",
    "\n",
    "* an integer (`1`)\n",
    "* a string (`\"hello\"`)\n",
    "* a float (`3.14`)\n",
    "* a boolean (`True`)\n",
    "* another list (`[5, 6]`)\n",
    "* a dictionary (`{\"key\": \"value\"}`)\n",
    "\n",
    "Python lists are versatile and do not require all elements to be of the same type, unlike arrays in many other programming languages.\n"
   ]
  },
  {
   "cell_type": "raw",
   "id": "fb84be53-35a9-41f4-ba8a-9cba4b5c92ac",
   "metadata": {},
   "source": [
    "10.Explain why strings are immutable in Python\n",
    "-Strings are immutable in Python for several important reasons related to performance, reliability, and language design.\n",
    "Python strings are immutable to support:\n",
    "\n",
    "Memory optimization through interning\n",
    "\n",
    "Safe use as dict keys or set elements (hashability)\n",
    "\n",
    "Fewer bugs due to unintended side effects\n",
    "\n",
    "Simplified and predictable behavior\n",
    "\n",
    "If you need a mutable version of a string-like object, you can use a list of characters or the io.StringIO class."
   ]
  },
  {
   "cell_type": "raw",
   "id": "8f2d71b8-c1b0-4996-bdfb-8a4e1be47426",
   "metadata": {},
   "source": [
    "11.What advantages do dictionaries offer over lists for certain tasks?\n",
    "-Dictionaries offer several advantages over lists for certain types of tasks, especially when it comes to data lookup and association. Here's a breakdown of the main advantages:\n",
    "\n",
    "---\n",
    "\n",
    "### 1.  Faster Lookups\n",
    "\n",
    "* **Dictionaries** use hash tables, so accessing a value by its key is typically O(1) time.\n",
    "* **Lists** require a linear search (O(n)) if you're looking for a value or associated data unless you know the index in advance.\n",
    "\n",
    "**Use case:** Quickly checking if a user ID exists in a dataset.\n",
    "\n",
    "---\n",
    "\n",
    "### 2.  Key-Value Pairing\n",
    "\n",
    "* **Dictionaries** are ideal for mapping relationships, like user\\_id → user\\_info or product\\_name → price.\n",
    "* **Lists** just store ordered items without a direct relationship unless you use nested structures.\n",
    "\n",
    "**Use case:** Representing structured data like JSON objects or configuration settings.\n",
    "\n",
    "---\n",
    "\n",
    "### 3.  Better Readability for Semantic Data\n",
    "\n",
    "* With **dictionaries**, your data is self-describing. Keys make it clear what each value represents.\n",
    "* With **lists**, the meaning of each index can be ambiguous or require external documentation.\n",
    "\n",
    "**Use case:** API responses, user profiles, or settings files.\n",
    "\n",
    "---\n",
    "\n",
    "### 4.  Easy Updates\n",
    "\n",
    "* **Dictionaries** let you update values using their keys directly.\n",
    "* **Lists** require finding the right index first.\n",
    "\n",
    "**Use case:** Updating a user's score in a game leaderboard.\n",
    "\n",
    "---\n",
    "\n",
    "### 5.  Avoiding Duplicates\n",
    "\n",
    "* Keys in dictionaries are unique by design. This helps avoid accidental duplication of identifiers or labels.\n",
    "* Lists can contain duplicates freely, which may require extra checks if uniqueness is needed.\n",
    "\n",
    "**Use case:** Counting occurrences of items or storing unique identifiers.\n",
    "\n",
    "---\n",
    "\n",
    "### When to Use a List Instead:\n",
    "\n",
    "* When the order of items is crucial.\n",
    "* When you need to perform indexed operations (e.g., iterating over items in a specific sequence).\n",
    "* When the dataset doesn’t involve key-value relationships.\n",
    "\n",
    "---\n",
    "\n",
    "Let me know your specific use case if you'd like tailored advice!\n"
   ]
  },
  {
   "cell_type": "raw",
   "id": "a324c5fb-60e0-4a9a-8d63-8587c904f808",
   "metadata": {},
   "source": [
    "12. Describe a scenario where using a tuple would be preferable over a list?\n",
    "-A scenario where using a tuple would be preferable over a list is when representing fixed, unchangeable data—especially when immutability is important for data integrity or as a key in a dictionary.\n",
    "\n",
    "Example: Coordinates or RGB values\n",
    "\n",
    "Suppose you're representing a point on a 2D plane:\n",
    "\n",
    "```python\n",
    "point = (10, 20)\n",
    "```\n",
    "\n",
    "Here’s why a tuple is preferable:\n",
    "\n",
    "1. **Immutability**: A point’s coordinates shouldn't change accidentally—tuples are immutable, providing safety from unintended modification.\n",
    "2. **Hashable**: Tuples can be used as keys in dictionaries or elements in sets, unlike lists.\n",
    "3. **Semantic meaning**: A tuple signals that the structure has a fixed size and type order (e.g., always (x, y)), while a list suggests variability and mutability.\n",
    "\n",
    "So if you're storing multiple named locations with coordinates:\n",
    "\n",
    "```python\n",
    "locations = {\n",
    "    \"Home\": (50.123, -0.123),\n",
    "    \"Office\": (50.456, -0.456),\n",
    "}\n",
    "```\n",
    "\n",
    "Using tuples makes your intention clearer and your data safer.\n"
   ]
  },
  {
   "cell_type": "raw",
   "id": "93e3703d-f0e4-4a5c-ad35-529afc69ff4e",
   "metadata": {},
   "source": [
    "13. How do sets handle duplicate values in Python?\n",
    "-In Python, sets automatically eliminate duplicate values. A set is an unordered collection of unique elements. When you add elements to a set, any duplicates are removed.\n",
    "\n",
    "Here’s a quick example:\n",
    "\n",
    "```python\n",
    "my_set = {1, 2, 2, 3, 4, 4, 4}\n",
    "print(my_set)\n",
    "```\n",
    "\n",
    "Output:\n",
    "\n",
    "```\n",
    "{1, 2, 3, 4}\n",
    "```\n",
    "\n",
    "Even though `2` and `4` were added multiple times, the set only keeps one instance of each unique value.\n",
    "\n",
    "If you create a set from a list with duplicates, Python will also remove the duplicates:\n",
    "\n",
    "```python\n",
    "my_list = [1, 2, 2, 3, 3, 3]\n",
    "unique_values = set(my_list)\n",
    "print(unique_values)\n",
    "```\n",
    "\n",
    "Output:\n",
    "\n",
    "```\n",
    "{1, 2, 3}\n",
    "```\n",
    "\n",
    "This behavior makes sets useful for deduplicating data.\n"
   ]
  },
  {
   "cell_type": "raw",
   "id": "b94f42e5-8c66-46f7-bdd5-368f2dba8dfc",
   "metadata": {},
   "source": [
    "14. How does the “in” keyword work differently for lists and dictionaries?\n",
    "-Great question! The `in` keyword in Python is used to check membership, but it works a bit differently depending on whether you're using it with lists or dictionaries:\n",
    "\n",
    "### For Lists:\n",
    "\n",
    "* `in` checks whether a value is present **as an element** in the list.\n",
    "* It searches through the list elements and returns `True` if the value is found, otherwise `False`.\n",
    "\n",
    "```python\n",
    "my_list = [1, 2, 3, 4]\n",
    "print(3 in my_list)  # True\n",
    "print(5 in my_list)  # False\n",
    "```\n",
    "\n",
    "### For Dictionaries:\n",
    "\n",
    "* `in` checks whether a value is present **as a key** in the dictionary (not as a value).\n",
    "* It returns `True` if the key exists in the dictionary, otherwise `False`.\n",
    "\n",
    "```python\n",
    "my_dict = {'a': 1, 'b': 2, 'c': 3}\n",
    "print('b' in my_dict)      # True\n",
    "print(2 in my_dict)        # False (because 2 is a value, not a key)\n",
    "print('d' in my_dict)      # False\n",
    "```\n",
    "\n",
    "If you want to check if a value exists **in the dictionary values**, you'd do:\n",
    "\n",
    "```python\n",
    "print(2 in my_dict.values())  # True\n",
    "```\n",
    "\n",
    "---\n",
    "\n",
    "**Summary:**\n",
    "\n",
    "* `in` checks for **elements** in a list.\n",
    "* `in` checks for **keys** in a dictionary.\n",
    "\n",
    "If you want, I can show you some examples or help with related questions!\n"
   ]
  },
  {
   "cell_type": "raw",
   "id": "4c735478-c30e-4df6-a41b-023e1d294f19",
   "metadata": {},
   "source": [
    "15.  Can you modify the elements of a tuple? Explain why or why not ?\n",
    "-Tuples in Python are **immutable**, which means you **cannot modify their elements once the tuple is created**. This immutability is by design, and it has some practical reasons:\n",
    "\n",
    "* **Safety**: Because tuples can't be changed, they can be used as keys in dictionaries and elements of sets, where immutability is required.\n",
    "* **Performance**: Tuples are generally faster and use less memory than lists because their immutability allows some internal optimizations.\n",
    "* **Integrity**: If you want to ensure data does not change throughout the program, tuples provide that guarantee.\n",
    "\n",
    "### Example: Trying to modify a tuple element causes an error\n",
    "\n",
    "```python\n",
    "t = (1, 2, 3)\n",
    "t[0] = 100  # This will raise a TypeError: 'tuple' object does not support item assignment\n",
    "```\n",
    "\n",
    "If you want a data structure that can be modified, you should use a **list** instead.\n",
    "\n",
    "Would you like me to show you how to convert a tuple to a list to modify elements, then back to a tuple?\n"
   ]
  },
  {
   "cell_type": "code",
   "execution_count": 2,
   "id": "7f172287-a911-408e-b04b-b4e05f4c3467",
   "metadata": {},
   "outputs": [
    {
     "ename": "SyntaxError",
     "evalue": "invalid syntax (489000176.py, line 2)",
     "output_type": "error",
     "traceback": [
      "  \u001b[36mCell\u001b[39m\u001b[36m \u001b[39m\u001b[32mIn[2]\u001b[39m\u001b[32m, line 2\u001b[39m\n\u001b[31m    \u001b[39m\u001b[31m-A nested dictionary in Python is a dictionary where the values themselves are dictionaries. This allows you to create complex, multi-level data structures.\u001b[39m\n       ^\n\u001b[31mSyntaxError\u001b[39m\u001b[31m:\u001b[39m invalid syntax\n"
     ]
    }
   ],
   "source": [
    "16.  What is a nested dictionary, and give an example of its use case?\n",
    "-A nested dictionary in Python is a dictionary where the values themselves are dictionaries. This allows you to create complex, multi-level data structures.\n",
    "students = {\n",
    "    \"Alice\": {\n",
    "        \"age\": 20,\n",
    "        \"grades\": {\"math\": 90, \"science\": 85},\n",
    "        \"contact\": {\"email\": \"alice@example.com\", \"phone\": \"123-456-7890\"}\n",
    "    },\n",
    "    \"Bob\": {\n",
    "        \"age\": 22,\n",
    "        \"grades\": {\"math\": 75, \"science\": 95},\n",
    "        \"contact\": {\"email\": \"bob@example.com\", \"phone\": \"987-654-3210\"}\n",
    "    }\n",
    "}\n",
    "\n",
    "# Access Alice's science grade:\n",
    "print(students[\"Alice\"][\"grades\"][\"science\"])  # Output: 85\n"
   ]
  },
  {
   "cell_type": "raw",
   "id": "8e74c6a2-e674-44da-8511-ff4e5a7c9bff",
   "metadata": {},
   "source": [
    "17. Describe the time complexity of accessing elements in a dictionary ?\n",
    "-Dictionaries are typically implemented as hash tables.\n",
    "\n",
    "When you access an element by key, the key is hashed to find the corresponding bucket or slot directly.\n",
    "\n",
    "This avoids the need for searching through all items, making the access time independent of the dictionary size.\n",
    "    "
   ]
  },
  {
   "cell_type": "raw",
   "id": "86158817-c2f5-4e32-ac0d-78674d3a6c50",
   "metadata": {},
   "source": [
    "18. In what situations are lists preferred over dictionaries?\n",
    "- Lists are preferred over dictionaries in these situations:\n",
    "\n",
    "1. **Ordered Data**: When order matters (e.g., maintaining sequence), lists keep items in the order they were added. Dictionaries (in modern Python) preserve insertion order but lists are simpler and more natural for ordered collections.\n",
    "\n",
    "2. **Simple Indexed Access**: When you only need to access elements by position/index (0, 1, 2, …), lists are straightforward and efficient. Dictionaries require keys, which may not be numeric or sequential.\n",
    "\n",
    "3. **When Elements Don’t Need Unique Keys**: If your data items don’t have a unique identifier or key and are just values, lists make more sense.\n",
    "\n",
    "4. **Iterating Over Values**: Lists are often easier and more intuitive when you want to loop through elements in a sequence.\n",
    "\n",
    "5. **Memory Efficiency for Small Data Sets**: Lists can be slightly more memory-efficient than dictionaries for simple collections of data.\n",
    "\n",
    "6. **Use as Stacks or Queues**: Lists naturally support stack (LIFO) and queue (FIFO, with collections.deque) operations with simple methods like `.append()` and `.pop()`.\n",
    "\n",
    "In short, prefer lists when your data is an ordered sequence, accessed by position, or doesn’t require key-value mapping. Use dictionaries when you need fast lookups by arbitrary keys.\n",
    "\n",
    "Would you like me to give you some Python code examples illustrating these differences?\n"
   ]
  },
  {
   "cell_type": "raw",
   "id": "e1bbe795-edd2-4d6f-bf97-5d546647f0e5",
   "metadata": {},
   "source": [
    "19. Why are dictionaries considered unordered, and how does that affect data retrieval?\n",
    "-In many programming languages (including Python before version 3.7), dictionaries are implemented as hash tables. They store key-value pairs but do not keep track of the order in which items are added.\n",
    "\n",
    "Because of this, the internal arrangement of items is based on the hash values of keys rather than the sequence they were inserted.\n",
    "\n",
    "As a result, when you iterate over a dictionary or print it, the order of items may appear arbitrary and can change between runs.\n",
    "\n",
    "How this affects data retrieval:\n",
    "\n",
    "Lookup by key remains fast: Since dictionaries use hashing, retrieving the value for a given key is very efficient (typically O(1) time complexity).\n",
    "\n",
    "No guaranteed order: You cannot rely on the order of items when iterating or when items are stored. If order matters, you may need to use an ordered dictionary or another data structure.\n",
    "\n",
    "Consistent retrieval of values by key: Even if the order is unordered, if you know the key, you get the same value every time."
   ]
  },
  {
   "cell_type": "raw",
   "id": "70c688fc-0990-42a9-8278-a70914d9548e",
   "metadata": {},
   "source": [
    "20.Explain the difference between a list and a dictionary in terms of data retrieval.\n",
    "-Great question! Here’s a clear explanation of the difference between a **list** and a **dictionary** in terms of data retrieval:\n",
    "\n",
    "* **List**:\n",
    "\n",
    "  * A list is an ordered collection of items.\n",
    "  * You retrieve data by **index position** (an integer starting at 0).\n",
    "  * Retrieval is done like this: `my_list[0]` to get the first element.\n",
    "  * The lookup time is generally **O(1)** if you have the index, but if you want to find an element by value, you might need to scan through the list (O(n)).\n",
    "\n",
    "* **Dictionary**:\n",
    "\n",
    "  * A dictionary is an unordered collection of key-value pairs.\n",
    "  * You retrieve data by a **key** (which can be many immutable types, like strings, numbers, or tuples).\n",
    "  * Retrieval is done like this: `my_dict['key']` to get the value associated with `'key'`.\n",
    "  * Lookups by key are usually very fast, roughly **O(1)** on average, thanks to hashing.\n",
    "\n",
    "### Summary:\n",
    "\n",
    "* **List retrieval**: by **integer index**, order matters.\n",
    "* **Dictionary retrieval**: by **key**, no inherent order, but direct access by key is efficient.\n",
    "\n",
    "If you want, I can also provide code examples! Would you like that?\n"
   ]
  },
  {
   "cell_type": "code",
   "execution_count": null,
   "id": "6446241b-7e48-4817-a2be-515c5385aa31",
   "metadata": {},
   "outputs": [],
   "source": []
  },
  {
   "cell_type": "code",
   "execution_count": null,
   "id": "4bdca398-926b-4562-8d8f-1545958bfcda",
   "metadata": {},
   "outputs": [],
   "source": []
  },
  {
   "cell_type": "code",
   "execution_count": 7,
   "id": "99d35540-17a6-460b-a816-53647017ea8d",
   "metadata": {},
   "outputs": [
    {
     "name": "stdout",
     "output_type": "stream",
     "text": [
      "my_name\n"
     ]
    }
   ],
   "source": [
    "1. # Write a code to create a string with your name and print it.\n",
    "my_name = \"sufiyan\"\n",
    "print(\"my_name\")"
   ]
  },
  {
   "cell_type": "code",
   "execution_count": 9,
   "id": "15c19bc0-26ea-48e1-a52f-eb5fd8567b9c",
   "metadata": {},
   "outputs": [
    {
     "name": "stdout",
     "output_type": "stream",
     "text": [
      "Length of the string is: 11\n"
     ]
    }
   ],
   "source": [
    "2 #Write a code to find the length of the string \"Hello World\"\n",
    "string = \"Hello World\"\n",
    "length = len(string)\n",
    "print(\"Length of the string is:\", length)\n"
   ]
  },
  {
   "cell_type": "code",
   "execution_count": 13,
   "id": "36e2ac95-dadf-4358-9e35-9bba65115f0d",
   "metadata": {},
   "outputs": [
    {
     "name": "stdout",
     "output_type": "stream",
     "text": [
      "Pyt\n"
     ]
    }
   ],
   "source": [
    "3.#Write a code to slice the first 3 characters from the string \"Python Programming\"\n",
    "text = \"Python Programming\"\n",
    "first_three_chars = text[:3]\n",
    "print(first_three_chars)\n",
    "\n"
   ]
  },
  {
   "cell_type": "code",
   "execution_count": 14,
   "id": "e2feccbb-2590-4a10-8126-1c1ffcf8fd11",
   "metadata": {},
   "outputs": [
    {
     "name": "stdout",
     "output_type": "stream",
     "text": [
      "HELLO\n"
     ]
    }
   ],
   "source": [
    "4. #Write a code to convert the string \"hello\" to uppercase\n",
    "text = \"hello\"\n",
    "uppercase_text = text.upper()\n",
    "print(uppercase_text)"
   ]
  },
  {
   "cell_type": "code",
   "execution_count": 15,
   "id": "5726499d-17a3-4b5a-b8e6-368861f3855b",
   "metadata": {},
   "outputs": [
    {
     "name": "stdout",
     "output_type": "stream",
     "text": [
      "I like orange\n"
     ]
    }
   ],
   "source": [
    "5.#Write a code to replace the word \"apple\" with \"orange\" in the string \"I like apple\"\n",
    "text = \"I like apple\"\n",
    "new_text = text.replace(\"apple\", \"orange\")\n",
    "print(new_text)"
   ]
  },
  {
   "cell_type": "code",
   "execution_count": 16,
   "id": "89941ad7-379a-4ed7-81b4-624bd8aabb51",
   "metadata": {},
   "outputs": [
    {
     "name": "stdout",
     "output_type": "stream",
     "text": [
      "[1, 2, 3, 4, 5]\n"
     ]
    }
   ],
   "source": [
    "#6.  Write a code to create a list with numbers 1 to 5 and print it\n",
    "numbers = [1, 2, 3, 4, 5]\n",
    "print(numbers)"
   ]
  },
  {
   "cell_type": "code",
   "execution_count": 17,
   "id": "6303c4ef-f215-4d64-b2fa-4e6b0f3418b2",
   "metadata": {},
   "outputs": [
    {
     "name": "stdout",
     "output_type": "stream",
     "text": [
      "[1, 2, 3, 4, 10]\n"
     ]
    }
   ],
   "source": [
    "#7. Write a code to append the number 10 to the list [1, 2, 3, 4]\n",
    "my_list = [1, 2, 3, 4]\n",
    "my_list.append(10)\n",
    "print(my_list)"
   ]
  },
  {
   "cell_type": "code",
   "execution_count": 18,
   "id": "11849c8c-153d-42db-ad5e-7739541a2b5e",
   "metadata": {},
   "outputs": [
    {
     "name": "stdout",
     "output_type": "stream",
     "text": [
      "[1, 2, 4, 5]\n"
     ]
    }
   ],
   "source": [
    "#8.Write a code to remove the number 3 from the list [1, 2, 3, 4, 5]\n",
    "numbers = [1, 2, 3, 4, 5]\n",
    "numbers.remove(3)\n",
    "print(numbers)"
   ]
  },
  {
   "cell_type": "code",
   "execution_count": 19,
   "id": "3c708eb4-2f77-4687-a4ea-6bb590883d55",
   "metadata": {},
   "outputs": [
    {
     "name": "stdout",
     "output_type": "stream",
     "text": [
      "b\n"
     ]
    }
   ],
   "source": [
    "#9.Write a code to access the second element in the list ['a', 'b', 'c', 'd']\n",
    "my_list = ['a', 'b', 'c', 'd']\n",
    "second_element = my_list[1]\n",
    "print(second_element)"
   ]
  },
  {
   "cell_type": "code",
   "execution_count": null,
   "id": "cefd0d54-a3cd-4817-b9c3-9e7e1ead3c58",
   "metadata": {},
   "outputs": [],
   "source": [
    "#10.Write a code to reverse the list [10, 20, 30, 40, 50].\n"
   ]
  }
 ],
 "metadata": {
  "kernelspec": {
   "display_name": "Python 3 (ipykernel)",
   "language": "python",
   "name": "python3"
  },
  "language_info": {
   "codemirror_mode": {
    "name": "ipython",
    "version": 3
   },
   "file_extension": ".py",
   "mimetype": "text/x-python",
   "name": "python",
   "nbconvert_exporter": "python",
   "pygments_lexer": "ipython3",
   "version": "3.13.3"
  }
 },
 "nbformat": 4,
 "nbformat_minor": 5
}
